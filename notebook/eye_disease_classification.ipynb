{
 "cells": [
  {
   "cell_type": "code",
   "execution_count": 1,
   "id": "def1dc70",
   "metadata": {
    "_cell_guid": "b1076dfc-b9ad-4769-8c92-a6c4dae69d19",
    "_uuid": "8f2839f25d086af736a60e9eeb907d3b93b6e0e5",
    "execution": {
     "iopub.execute_input": "2025-07-25T20:26:25.260869Z",
     "iopub.status.busy": "2025-07-25T20:26:25.260500Z",
     "iopub.status.idle": "2025-07-25T20:26:32.803345Z",
     "shell.execute_reply": "2025-07-25T20:26:32.802574Z"
    },
    "papermill": {
     "duration": 7.551738,
     "end_time": "2025-07-25T20:26:32.805606",
     "exception": false,
     "start_time": "2025-07-25T20:26:25.253868",
     "status": "completed"
    },
    "tags": []
   },
   "outputs": [],
   "source": [
    "import pandas as pd\n",
    "import pathlib\n",
    "import tensorflow as tf\n",
    "import matplotlib.pyplot as plt\n",
    "import cv2\n",
    "import seaborn as sns\n",
    "import numpy as np\n",
    "import os\n",
    "import PIL\n",
    "import glob\n",
    "from tensorflow import keras\n",
    "from tensorflow.keras import layers\n",
    "from tensorflow.keras.models import Sequential\n",
    "from tensorflow.keras.preprocessing import image_dataset_from_directory\n",
    "from tensorflow.keras.layers import Conv2D, MaxPooling2D, Activation, Flatten, Dense, Dropout, BatchNormalization\n",
    "from tensorflow.keras.losses import SparseCategoricalCrossentropy\n",
    "from tensorflow.keras.regularizers import l2\n",
    "import os"
   ]
  },
  {
   "cell_type": "code",
   "execution_count": 2,
   "id": "cd231f9c",
   "metadata": {
    "execution": {
     "iopub.execute_input": "2025-07-25T20:26:32.815340Z",
     "iopub.status.busy": "2025-07-25T20:26:32.814829Z",
     "iopub.status.idle": "2025-07-25T20:26:33.869084Z",
     "shell.execute_reply": "2025-07-25T20:26:33.868213Z"
    },
    "papermill": {
     "duration": 1.061072,
     "end_time": "2025-07-25T20:26:33.871056",
     "exception": false,
     "start_time": "2025-07-25T20:26:32.809984",
     "status": "completed"
    },
    "tags": []
   },
   "outputs": [
    {
     "name": "stdout",
     "output_type": "stream",
     "text": [
      "processor\t: 0\r\n",
      "vendor_id\t: GenuineIntel\r\n",
      "cpu family\t: 6\r\n",
      "model\t\t: 85\r\n",
      "model name\t: Intel(R) Xeon(R) CPU @ 2.00GHz\r\n",
      "stepping\t: 3\r\n",
      "microcode\t: 0xffffffff\r\n",
      "cpu MHz\t\t: 2000.230\r\n",
      "cache size\t: 39424 KB\r\n",
      "physical id\t: 0\r\n",
      "siblings\t: 4\r\n",
      "core id\t\t: 0\r\n",
      "cpu cores\t: 2\r\n",
      "apicid\t\t: 0\r\n",
      "initial apicid\t: 0\r\n",
      "fpu\t\t: yes\r\n",
      "fpu_exception\t: yes\r\n",
      "cpuid level\t: 13\r\n",
      "wp\t\t: yes\r\n",
      "flags\t\t: fpu vme de pse tsc msr pae mce cx8 apic sep mtrr pge mca cmov pat pse36 clflush mmx fxsr sse sse2 ss ht syscall nx pdpe1gb rdtscp lm constant_tsc rep_good nopl xtopology nonstop_tsc cpuid tsc_known_freq pni pclmulqdq ssse3 fma cx16 pcid sse4_1 sse4_2 x2apic movbe popcnt aes xsave avx f16c rdrand hypervisor lahf_lm abm 3dnowprefetch pti ssbd ibrs ibpb stibp fsgsbase tsc_adjust bmi1 hle avx2 smep bmi2 erms invpcid rtm mpx avx512f avx512dq rdseed adx smap clflushopt clwb avx512cd avx512bw avx512vl xsaveopt xsavec xgetbv1 xsaves arat md_clear arch_capabilities\r\n",
      "bugs\t\t: cpu_meltdown spectre_v1 spectre_v2 spec_store_bypass l1tf mds swapgs taa mmio_stale_data retbleed bhi\r\n",
      "bogomips\t: 4000.46\r\n",
      "clflush size\t: 64\r\n",
      "cache_alignment\t: 64\r\n",
      "address sizes\t: 46 bits physical, 48 bits virtual\r\n",
      "power management:\r\n",
      "\r\n",
      "processor\t: 1\r\n",
      "vendor_id\t: GenuineIntel\r\n",
      "cpu family\t: 6\r\n",
      "model\t\t: 85\r\n",
      "model name\t: Intel(R) Xeon(R) CPU @ 2.00GHz\r\n",
      "stepping\t: 3\r\n",
      "microcode\t: 0xffffffff\r\n",
      "cpu MHz\t\t: 2000.230\r\n",
      "cache size\t: 39424 KB\r\n",
      "physical id\t: 0\r\n",
      "siblings\t: 4\r\n",
      "core id\t\t: 1\r\n",
      "cpu cores\t: 2\r\n",
      "apicid\t\t: 2\r\n",
      "initial apicid\t: 2\r\n",
      "fpu\t\t: yes\r\n",
      "fpu_exception\t: yes\r\n",
      "cpuid level\t: 13\r\n",
      "wp\t\t: yes\r\n",
      "flags\t\t: fpu vme de pse tsc msr pae mce cx8 apic sep mtrr pge mca cmov pat pse36 clflush mmx fxsr sse sse2 ss ht syscall nx pdpe1gb rdtscp lm constant_tsc rep_good nopl xtopology nonstop_tsc cpuid tsc_known_freq pni pclmulqdq ssse3 fma cx16 pcid sse4_1 sse4_2 x2apic movbe popcnt aes xsave avx f16c rdrand hypervisor lahf_lm abm 3dnowprefetch pti ssbd ibrs ibpb stibp fsgsbase tsc_adjust bmi1 hle avx2 smep bmi2 erms invpcid rtm mpx avx512f avx512dq rdseed adx smap clflushopt clwb avx512cd avx512bw avx512vl xsaveopt xsavec xgetbv1 xsaves arat md_clear arch_capabilities\r\n",
      "bugs\t\t: cpu_meltdown spectre_v1 spectre_v2 spec_store_bypass l1tf mds swapgs taa mmio_stale_data retbleed bhi\r\n",
      "bogomips\t: 4000.46\r\n",
      "clflush size\t: 64\r\n",
      "cache_alignment\t: 64\r\n",
      "address sizes\t: 46 bits physical, 48 bits virtual\r\n",
      "power management:\r\n",
      "\r\n",
      "processor\t: 2\r\n",
      "vendor_id\t: GenuineIntel\r\n",
      "cpu family\t: 6\r\n",
      "model\t\t: 85\r\n",
      "model name\t: Intel(R) Xeon(R) CPU @ 2.00GHz\r\n",
      "stepping\t: 3\r\n",
      "microcode\t: 0xffffffff\r\n",
      "cpu MHz\t\t: 2000.230\r\n",
      "cache size\t: 39424 KB\r\n",
      "physical id\t: 0\r\n",
      "siblings\t: 4\r\n",
      "core id\t\t: 0\r\n",
      "cpu cores\t: 2\r\n",
      "apicid\t\t: 1\r\n",
      "initial apicid\t: 1\r\n",
      "fpu\t\t: yes\r\n",
      "fpu_exception\t: yes\r\n",
      "cpuid level\t: 13\r\n",
      "wp\t\t: yes\r\n",
      "flags\t\t: fpu vme de pse tsc msr pae mce cx8 apic sep mtrr pge mca cmov pat pse36 clflush mmx fxsr sse sse2 ss ht syscall nx pdpe1gb rdtscp lm constant_tsc rep_good nopl xtopology nonstop_tsc cpuid tsc_known_freq pni pclmulqdq ssse3 fma cx16 pcid sse4_1 sse4_2 x2apic movbe popcnt aes xsave avx f16c rdrand hypervisor lahf_lm abm 3dnowprefetch pti ssbd ibrs ibpb stibp fsgsbase tsc_adjust bmi1 hle avx2 smep bmi2 erms invpcid rtm mpx avx512f avx512dq rdseed adx smap clflushopt clwb avx512cd avx512bw avx512vl xsaveopt xsavec xgetbv1 xsaves arat md_clear arch_capabilities\r\n",
      "bugs\t\t: cpu_meltdown spectre_v1 spectre_v2 spec_store_bypass l1tf mds swapgs taa mmio_stale_data retbleed bhi\r\n",
      "bogomips\t: 4000.46\r\n",
      "clflush size\t: 64\r\n",
      "cache_alignment\t: 64\r\n",
      "address sizes\t: 46 bits physical, 48 bits virtual\r\n",
      "power management:\r\n",
      "\r\n",
      "processor\t: 3\r\n",
      "vendor_id\t: GenuineIntel\r\n",
      "cpu family\t: 6\r\n",
      "model\t\t: 85\r\n",
      "model name\t: Intel(R) Xeon(R) CPU @ 2.00GHz\r\n",
      "stepping\t: 3\r\n",
      "microcode\t: 0xffffffff\r\n",
      "cpu MHz\t\t: 2000.230\r\n",
      "cache size\t: 39424 KB\r\n",
      "physical id\t: 0\r\n",
      "siblings\t: 4\r\n",
      "core id\t\t: 1\r\n",
      "cpu cores\t: 2\r\n",
      "apicid\t\t: 3\r\n",
      "initial apicid\t: 3\r\n",
      "fpu\t\t: yes\r\n",
      "fpu_exception\t: yes\r\n",
      "cpuid level\t: 13\r\n",
      "wp\t\t: yes\r\n",
      "flags\t\t: fpu vme de pse tsc msr pae mce cx8 apic sep mtrr pge mca cmov pat pse36 clflush mmx fxsr sse sse2 ss ht syscall nx pdpe1gb rdtscp lm constant_tsc rep_good nopl xtopology nonstop_tsc cpuid tsc_known_freq pni pclmulqdq ssse3 fma cx16 pcid sse4_1 sse4_2 x2apic movbe popcnt aes xsave avx f16c rdrand hypervisor lahf_lm abm 3dnowprefetch pti ssbd ibrs ibpb stibp fsgsbase tsc_adjust bmi1 hle avx2 smep bmi2 erms invpcid rtm mpx avx512f avx512dq rdseed adx smap clflushopt clwb avx512cd avx512bw avx512vl xsaveopt xsavec xgetbv1 xsaves arat md_clear arch_capabilities\r\n",
      "bugs\t\t: cpu_meltdown spectre_v1 spectre_v2 spec_store_bypass l1tf mds swapgs taa mmio_stale_data retbleed bhi\r\n",
      "bogomips\t: 4000.46\r\n",
      "clflush size\t: 64\r\n",
      "cache_alignment\t: 64\r\n",
      "address sizes\t: 46 bits physical, 48 bits virtual\r\n",
      "power management:\r\n",
      "\r\n"
     ]
    }
   ],
   "source": [
    "!cat /proc/cpuinfo"
   ]
  },
  {
   "cell_type": "code",
   "execution_count": 3,
   "id": "cb784f58",
   "metadata": {
    "execution": {
     "iopub.execute_input": "2025-07-25T20:26:33.880960Z",
     "iopub.status.busy": "2025-07-25T20:26:33.880644Z",
     "iopub.status.idle": "2025-07-25T20:26:33.892498Z",
     "shell.execute_reply": "2025-07-25T20:26:33.891671Z"
    },
    "papermill": {
     "duration": 0.018733,
     "end_time": "2025-07-25T20:26:33.894093",
     "exception": false,
     "start_time": "2025-07-25T20:26:33.875360",
     "status": "completed"
    },
    "tags": []
   },
   "outputs": [
    {
     "name": "stdout",
     "output_type": "stream",
     "text": [
      "Number of replicas: 1\n"
     ]
    }
   ],
   "source": [
    "try:\n",
    "    tpu = tf.distribute.cluster_resolver.TPUClusterResolver()\n",
    "    print('Device:', tpu.master())\n",
    "    tf.config.experimental_connect_to_cluster(tpu)\n",
    "    tf.tpu.experimental.initialize_tpu_system(tpu)\n",
    "    strategy = tf.distribute.experimental.TPUStrategy(tpu)\n",
    "except:\n",
    "    strategy = tf.distribute.get_strategy()\n",
    "print('Number of replicas:', strategy.num_replicas_in_sync)"
   ]
  },
  {
   "cell_type": "code",
   "execution_count": 4,
   "id": "43189428",
   "metadata": {
    "execution": {
     "iopub.execute_input": "2025-07-25T20:26:33.903302Z",
     "iopub.status.busy": "2025-07-25T20:26:33.903036Z",
     "iopub.status.idle": "2025-07-25T20:26:33.923825Z",
     "shell.execute_reply": "2025-07-25T20:26:33.922998Z"
    },
    "papermill": {
     "duration": 0.027387,
     "end_time": "2025-07-25T20:26:33.925619",
     "exception": false,
     "start_time": "2025-07-25T20:26:33.898232",
     "status": "completed"
    },
    "tags": []
   },
   "outputs": [
    {
     "name": "stdout",
     "output_type": "stream",
     "text": [
      "['Macular Scar', 'Central Serous Chorioretinopathy [Color Fundus]', 'Pterygium', 'Disc Edema', 'Glaucoma', 'Healthy', 'Retinal Detachment', 'Retinitis Pigmentosa', 'Myopia', 'Diabetic Retinopathy']\n",
      "Types of classes labels found:  10\n"
     ]
    }
   ],
   "source": [
    "dataset_path_train = os.listdir('/kaggle/input/neuroeye-dataset/Eye Disease Image Dataset/Augmented Dataset/Augmented Dataset')\n",
    "print (dataset_path_train)\n",
    "print(\"Types of classes labels found: \", len(dataset_path_train))"
   ]
  },
  {
   "cell_type": "code",
   "execution_count": 5,
   "id": "443d8af1",
   "metadata": {
    "execution": {
     "iopub.execute_input": "2025-07-25T20:26:33.935029Z",
     "iopub.status.busy": "2025-07-25T20:26:33.934771Z",
     "iopub.status.idle": "2025-07-25T20:26:33.939907Z",
     "shell.execute_reply": "2025-07-25T20:26:33.939255Z"
    },
    "papermill": {
     "duration": 0.011748,
     "end_time": "2025-07-25T20:26:33.941614",
     "exception": false,
     "start_time": "2025-07-25T20:26:33.929866",
     "status": "completed"
    },
    "tags": []
   },
   "outputs": [],
   "source": [
    "from pathlib import Path\n",
    "\n",
    "base_dir = Path('/kaggle/input/neuroeye-dataset/Eye Disease Image Dataset/Augmented Dataset/Augmented Dataset')\n",
    "\n",
    "central_serous_chorioretinopathy = base_dir / 'Central Serous Chorioretinopathy [Color Fundus]'\n",
    "diabetic_retinopathy = base_dir / 'Diabetic Retinopathy'\n",
    "disc_edema = base_dir / 'Disc Edema'\n",
    "glaucoma = base_dir / 'Glaucoma'\n",
    "healthy = base_dir / 'Healthy'\n",
    "macular_scar = base_dir / 'Macular Scar'\n",
    "myopia = base_dir / 'Myopia'\n",
    "pterygium = base_dir / 'Pterygium'\n",
    "retinal_detachment = base_dir / 'Retinal Detachment'\n",
    "retinitis_pigmentosa = base_dir / 'Retinitis Pigmentosa'\n"
   ]
  },
  {
   "cell_type": "code",
   "execution_count": 6,
   "id": "c78f26b1",
   "metadata": {
    "execution": {
     "iopub.execute_input": "2025-07-25T20:26:33.951026Z",
     "iopub.status.busy": "2025-07-25T20:26:33.950492Z",
     "iopub.status.idle": "2025-07-25T20:27:00.331696Z",
     "shell.execute_reply": "2025-07-25T20:27:00.330514Z"
    },
    "papermill": {
     "duration": 26.388319,
     "end_time": "2025-07-25T20:27:00.333996",
     "exception": false,
     "start_time": "2025-07-25T20:26:33.945677",
     "status": "completed"
    },
    "tags": []
   },
   "outputs": [
    {
     "name": "stderr",
     "output_type": "stream",
     "text": [
      "central_serous_chorioretinopathy: 100%|██████████| 606/606 [00:00<00:00, 656.72it/s]\n",
      "diabetic_retinopathy: 100%|██████████| 3444/3444 [00:05<00:00, 651.16it/s]\n",
      "disc_edema: 100%|██████████| 762/762 [00:01<00:00, 649.17it/s]\n",
      "glaucoma: 100%|██████████| 2880/2880 [00:04<00:00, 632.59it/s]\n",
      "healthy: 100%|██████████| 2676/2676 [00:04<00:00, 617.27it/s]\n",
      "macular_scar: 100%|██████████| 1937/1937 [00:03<00:00, 620.80it/s]\n",
      "myopia: 100%|██████████| 2251/2251 [00:03<00:00, 583.03it/s]\n",
      "pterygium: 100%|██████████| 102/102 [00:00<00:00, 585.61it/s]\n",
      "retinal_detachment: 100%|██████████| 750/750 [00:01<00:00, 600.07it/s]\n",
      "retinitis_pigmentosa: 100%|██████████| 834/834 [00:01<00:00, 581.22it/s]"
     ]
    },
    {
     "name": "stdout",
     "output_type": "stream",
     "text": [
      "Saving Dataframe to: /kaggle/working/dataset.pickle\n"
     ]
    },
    {
     "name": "stderr",
     "output_type": "stream",
     "text": [
      "\n"
     ]
    }
   ],
   "source": [
    "eye_disease_df = pd.DataFrame()\n",
    "from tqdm import tqdm\n",
    "\n",
    "disease_dirs = {\n",
    "    'central_serous_chorioretinopathy': 0,\n",
    "    'diabetic_retinopathy': 1,\n",
    "    'disc_edema': 2,\n",
    "    'glaucoma': 3,\n",
    "    'healthy': 4,\n",
    "    'macular_scar': 5,\n",
    "    'myopia': 6,\n",
    "    'pterygium': 7,\n",
    "    'retinal_detachment': 8,\n",
    "    'retinitis_pigmentosa': 9\n",
    "}\n",
    "\n",
    "for disease_name, label in disease_dirs.items():\n",
    "    folder = eval(disease_name)  # assumes variables like central_serous_chorioretinopathy = Path(...)\n",
    "    for imagepath in tqdm(list(folder.iterdir()), desc=disease_name):\n",
    "        eye_disease_df = eye_disease_df.append({\n",
    "            'image': str(imagepath),\n",
    "            'eye_disease_type': label\n",
    "        }, ignore_index=True)\n",
    "\n",
    "data_frame = '/kaggle/working/dataset.pickle'\n",
    "print(f'Saving Dataframe to: {data_frame}')\n",
    "eye_disease_df.to_pickle(data_frame)\n"
   ]
  },
  {
   "cell_type": "code",
   "execution_count": 7,
   "id": "2f9c91c4",
   "metadata": {
    "execution": {
     "iopub.execute_input": "2025-07-25T20:27:00.372557Z",
     "iopub.status.busy": "2025-07-25T20:27:00.372248Z",
     "iopub.status.idle": "2025-07-25T20:27:00.390726Z",
     "shell.execute_reply": "2025-07-25T20:27:00.389735Z"
    },
    "papermill": {
     "duration": 0.040107,
     "end_time": "2025-07-25T20:27:00.392946",
     "exception": false,
     "start_time": "2025-07-25T20:27:00.352839",
     "status": "completed"
    },
    "tags": []
   },
   "outputs": [
    {
     "data": {
      "text/html": [
       "<div>\n",
       "<style scoped>\n",
       "    .dataframe tbody tr th:only-of-type {\n",
       "        vertical-align: middle;\n",
       "    }\n",
       "\n",
       "    .dataframe tbody tr th {\n",
       "        vertical-align: top;\n",
       "    }\n",
       "\n",
       "    .dataframe thead th {\n",
       "        text-align: right;\n",
       "    }\n",
       "</style>\n",
       "<table border=\"1\" class=\"dataframe\">\n",
       "  <thead>\n",
       "    <tr style=\"text-align: right;\">\n",
       "      <th></th>\n",
       "      <th>image</th>\n",
       "      <th>eye_disease_type</th>\n",
       "    </tr>\n",
       "  </thead>\n",
       "  <tbody>\n",
       "    <tr>\n",
       "      <th>0</th>\n",
       "      <td>/kaggle/input/neuroeye-dataset/Eye Disease Ima...</td>\n",
       "      <td>0.0</td>\n",
       "    </tr>\n",
       "    <tr>\n",
       "      <th>1</th>\n",
       "      <td>/kaggle/input/neuroeye-dataset/Eye Disease Ima...</td>\n",
       "      <td>0.0</td>\n",
       "    </tr>\n",
       "    <tr>\n",
       "      <th>2</th>\n",
       "      <td>/kaggle/input/neuroeye-dataset/Eye Disease Ima...</td>\n",
       "      <td>0.0</td>\n",
       "    </tr>\n",
       "    <tr>\n",
       "      <th>3</th>\n",
       "      <td>/kaggle/input/neuroeye-dataset/Eye Disease Ima...</td>\n",
       "      <td>0.0</td>\n",
       "    </tr>\n",
       "    <tr>\n",
       "      <th>4</th>\n",
       "      <td>/kaggle/input/neuroeye-dataset/Eye Disease Ima...</td>\n",
       "      <td>0.0</td>\n",
       "    </tr>\n",
       "    <tr>\n",
       "      <th>...</th>\n",
       "      <td>...</td>\n",
       "      <td>...</td>\n",
       "    </tr>\n",
       "    <tr>\n",
       "      <th>16237</th>\n",
       "      <td>/kaggle/input/neuroeye-dataset/Eye Disease Ima...</td>\n",
       "      <td>9.0</td>\n",
       "    </tr>\n",
       "    <tr>\n",
       "      <th>16238</th>\n",
       "      <td>/kaggle/input/neuroeye-dataset/Eye Disease Ima...</td>\n",
       "      <td>9.0</td>\n",
       "    </tr>\n",
       "    <tr>\n",
       "      <th>16239</th>\n",
       "      <td>/kaggle/input/neuroeye-dataset/Eye Disease Ima...</td>\n",
       "      <td>9.0</td>\n",
       "    </tr>\n",
       "    <tr>\n",
       "      <th>16240</th>\n",
       "      <td>/kaggle/input/neuroeye-dataset/Eye Disease Ima...</td>\n",
       "      <td>9.0</td>\n",
       "    </tr>\n",
       "    <tr>\n",
       "      <th>16241</th>\n",
       "      <td>/kaggle/input/neuroeye-dataset/Eye Disease Ima...</td>\n",
       "      <td>9.0</td>\n",
       "    </tr>\n",
       "  </tbody>\n",
       "</table>\n",
       "<p>16242 rows × 2 columns</p>\n",
       "</div>"
      ],
      "text/plain": [
       "                                                   image  eye_disease_type\n",
       "0      /kaggle/input/neuroeye-dataset/Eye Disease Ima...               0.0\n",
       "1      /kaggle/input/neuroeye-dataset/Eye Disease Ima...               0.0\n",
       "2      /kaggle/input/neuroeye-dataset/Eye Disease Ima...               0.0\n",
       "3      /kaggle/input/neuroeye-dataset/Eye Disease Ima...               0.0\n",
       "4      /kaggle/input/neuroeye-dataset/Eye Disease Ima...               0.0\n",
       "...                                                  ...               ...\n",
       "16237  /kaggle/input/neuroeye-dataset/Eye Disease Ima...               9.0\n",
       "16238  /kaggle/input/neuroeye-dataset/Eye Disease Ima...               9.0\n",
       "16239  /kaggle/input/neuroeye-dataset/Eye Disease Ima...               9.0\n",
       "16240  /kaggle/input/neuroeye-dataset/Eye Disease Ima...               9.0\n",
       "16241  /kaggle/input/neuroeye-dataset/Eye Disease Ima...               9.0\n",
       "\n",
       "[16242 rows x 2 columns]"
      ]
     },
     "execution_count": 7,
     "metadata": {},
     "output_type": "execute_result"
    }
   ],
   "source": [
    "eye_disease_df"
   ]
  },
  {
   "cell_type": "code",
   "execution_count": 8,
   "id": "78e5095f",
   "metadata": {
    "execution": {
     "iopub.execute_input": "2025-07-25T20:27:00.426027Z",
     "iopub.status.busy": "2025-07-25T20:27:00.425777Z",
     "iopub.status.idle": "2025-07-25T20:27:00.435715Z",
     "shell.execute_reply": "2025-07-25T20:27:00.434926Z"
    },
    "papermill": {
     "duration": 0.027945,
     "end_time": "2025-07-25T20:27:00.437346",
     "exception": false,
     "start_time": "2025-07-25T20:27:00.409401",
     "status": "completed"
    },
    "tags": []
   },
   "outputs": [
    {
     "data": {
      "text/plain": [
       "1.0    3444\n",
       "3.0    2880\n",
       "4.0    2676\n",
       "6.0    2251\n",
       "5.0    1937\n",
       "9.0     834\n",
       "2.0     762\n",
       "8.0     750\n",
       "0.0     606\n",
       "7.0     102\n",
       "Name: eye_disease_type, dtype: int64"
      ]
     },
     "execution_count": 8,
     "metadata": {},
     "output_type": "execute_result"
    }
   ],
   "source": [
    "eye_disease_df['eye_disease_type'].value_counts()"
   ]
  },
  {
   "cell_type": "code",
   "execution_count": 9,
   "id": "2ca549d5",
   "metadata": {
    "execution": {
     "iopub.execute_input": "2025-07-25T20:27:00.469520Z",
     "iopub.status.busy": "2025-07-25T20:27:00.469274Z",
     "iopub.status.idle": "2025-07-25T20:27:00.472982Z",
     "shell.execute_reply": "2025-07-25T20:27:00.472326Z"
    },
    "papermill": {
     "duration": 0.021987,
     "end_time": "2025-07-25T20:27:00.474750",
     "exception": false,
     "start_time": "2025-07-25T20:27:00.452763",
     "status": "completed"
    },
    "tags": []
   },
   "outputs": [],
   "source": [
    "epochs = 3\n",
    "learning_rate = 0.001 \n",
    "retrain = False"
   ]
  },
  {
   "cell_type": "code",
   "execution_count": 10,
   "id": "d0bdb9aa",
   "metadata": {
    "execution": {
     "iopub.execute_input": "2025-07-25T20:27:00.507694Z",
     "iopub.status.busy": "2025-07-25T20:27:00.507441Z",
     "iopub.status.idle": "2025-07-25T20:27:03.000799Z",
     "shell.execute_reply": "2025-07-25T20:27:02.999630Z"
    },
    "papermill": {
     "duration": 2.513099,
     "end_time": "2025-07-25T20:27:03.003707",
     "exception": false,
     "start_time": "2025-07-25T20:27:00.490608",
     "status": "completed"
    },
    "tags": []
   },
   "outputs": [
    {
     "name": "stdout",
     "output_type": "stream",
     "text": [
      "EyeDiseaseClassification(\n",
      "  (conv_layer): Sequential(\n",
      "    (0): Conv2d(3, 32, kernel_size=(3, 3), stride=(1, 1), padding=(1, 1))\n",
      "    (1): BatchNorm2d(32, eps=1e-05, momentum=0.1, affine=True, track_running_stats=True)\n",
      "    (2): ReLU(inplace=True)\n",
      "    (3): Conv2d(32, 32, kernel_size=(3, 3), stride=(1, 1), padding=(1, 1))\n",
      "    (4): BatchNorm2d(32, eps=1e-05, momentum=0.1, affine=True, track_running_stats=True)\n",
      "    (5): ReLU(inplace=True)\n",
      "    (6): MaxPool2d(kernel_size=2, stride=2, padding=0, dilation=1, ceil_mode=False)\n",
      "    (7): Conv2d(32, 64, kernel_size=(3, 3), stride=(1, 1), padding=(1, 1))\n",
      "    (8): BatchNorm2d(64, eps=1e-05, momentum=0.1, affine=True, track_running_stats=True)\n",
      "    (9): ReLU(inplace=True)\n",
      "    (10): Conv2d(64, 64, kernel_size=(3, 3), stride=(1, 1), padding=(1, 1))\n",
      "    (11): BatchNorm2d(64, eps=1e-05, momentum=0.1, affine=True, track_running_stats=True)\n",
      "    (12): ReLU(inplace=True)\n",
      "    (13): MaxPool2d(kernel_size=2, stride=2, padding=0, dilation=1, ceil_mode=False)\n",
      "  )\n",
      "  (fc_layer): Sequential(\n",
      "    (0): Dropout(p=0.1, inplace=False)\n",
      "    (1): Linear(in_features=4096, out_features=1000, bias=True)\n",
      "    (2): ReLU(inplace=True)\n",
      "    (3): Linear(in_features=1000, out_features=512, bias=True)\n",
      "    (4): ReLU(inplace=True)\n",
      "    (5): Dropout(p=0.1, inplace=False)\n",
      "    (6): Linear(in_features=512, out_features=10, bias=True)\n",
      "  )\n",
      ")\n"
     ]
    }
   ],
   "source": [
    "from torch import Tensor\n",
    "from torch.nn import (Conv2d, CrossEntropyLoss, Linear, MaxPool2d, ReLU,Sequential, functional, Sigmoid)\n",
    "import torch\n",
    "import torch.nn.init as init\n",
    "import torch.nn as nn\n",
    "\n",
    "                      \n",
    "class EyeDiseaseClassification(nn.Module):\n",
    "    def __init__(self):\n",
    "        super(EyeDiseaseClassification, self).__init__()\n",
    "        self.conv_layer = nn.Sequential(\n",
    "            nn.Conv2d(in_channels=3, out_channels=32, kernel_size=3, padding=1,stride=1),\n",
    "            nn.BatchNorm2d(32,track_running_stats=True),\n",
    "            nn.ReLU(inplace=True),\n",
    "            nn.Conv2d(in_channels=32, out_channels=32, kernel_size=3, padding=1,stride=1),\n",
    "            nn.BatchNorm2d(32,track_running_stats=True),\n",
    "            nn.ReLU(inplace=True),\n",
    "            nn.MaxPool2d(kernel_size=2, stride=2),\n",
    "            nn.Conv2d(in_channels=32, out_channels=64, kernel_size=3, padding=1,stride=1),\n",
    "            nn.BatchNorm2d(64,track_running_stats=True),\n",
    "            nn.ReLU(inplace=True),\n",
    "            nn.Conv2d(in_channels=64, out_channels=64, kernel_size=3, padding=1,stride=1),\n",
    "            nn.BatchNorm2d(64,track_running_stats=True),\n",
    "            nn.ReLU(inplace=True),\n",
    "            nn.MaxPool2d(kernel_size=2, stride=2),\n",
    "        )\n",
    "        self.fc_layer = nn.Sequential(\n",
    "            nn.Dropout(p=0.1,inplace=False),\n",
    "            nn.Linear(8 * 8 * 64, 1000),\n",
    "            nn.ReLU(inplace=True),\n",
    "            nn.Linear(1000, 512),\n",
    "            nn.ReLU(inplace=True),\n",
    "            nn.Dropout(p=0.1,inplace=False),\n",
    "            nn.Linear(512, 10)\n",
    "        )\n",
    "    def forward(self, x):\n",
    "        x = self.conv_layer(x)\n",
    "        x = x.view(x.size(0), -1)\n",
    "        x = self.fc_layer(x)\n",
    "        return x\n",
    "\n",
    "eye_disease_cnn = EyeDiseaseClassification()\n",
    "print(eye_disease_cnn)"
   ]
  },
  {
   "cell_type": "code",
   "execution_count": 11,
   "id": "2dca979d",
   "metadata": {
    "execution": {
     "iopub.execute_input": "2025-07-25T20:27:03.042044Z",
     "iopub.status.busy": "2025-07-25T20:27:03.041290Z",
     "iopub.status.idle": "2025-07-25T20:27:03.241769Z",
     "shell.execute_reply": "2025-07-25T20:27:03.240981Z"
    },
    "papermill": {
     "duration": 0.221852,
     "end_time": "2025-07-25T20:27:03.243947",
     "exception": false,
     "start_time": "2025-07-25T20:27:03.022095",
     "status": "completed"
    },
    "tags": []
   },
   "outputs": [],
   "source": [
    "from PIL import Image\n",
    "import numpy as np\n",
    "from torch import long, tensor\n",
    "from torch.utils.data.dataset import Dataset\n",
    "from torchvision.transforms import Compose, Resize, ToTensor, Normalize, RandomOrder\n",
    "\n",
    "class Eye_Class(Dataset):\n",
    "    def __init__(self, dataFrame):\n",
    "        self.dataFrame = dataFrame\n",
    "        self.transformations = Compose([\n",
    "            Resize((32, 32)),\n",
    "            ToTensor(),\n",
    "            Normalize((0.5667, 0.5198, 0.4955),(0.229, 0.224, 0.225))\n",
    "        ])\n",
    "    \n",
    "    def __getitem__(self, key):\n",
    "        if isinstance(key, slice):\n",
    "            raise NotImplementedError('Slicing Supported..')\n",
    "        \n",
    "        row_loc = self.dataFrame.iloc[key]\n",
    "        image_rgb = Image.open(row_loc['image']).convert('RGB')\n",
    "        #image = (image - mean) / std\n",
    "        #print(image)\n",
    "        return {\n",
    "          'image': self.transformations(image_rgb),\n",
    "          'eye_disease_type': tensor([row_loc['eye_disease_type']], dtype=long),\n",
    "          'path': row_loc['image']\n",
    "        }\n",
    "    \n",
    "    def __len__(self):\n",
    "        return len(self.dataFrame.index)"
   ]
  },
  {
   "cell_type": "code",
   "execution_count": 12,
   "id": "00ab8aee",
   "metadata": {
    "execution": {
     "iopub.execute_input": "2025-07-25T20:27:03.279474Z",
     "iopub.status.busy": "2025-07-25T20:27:03.278925Z",
     "iopub.status.idle": "2025-07-25T20:27:03.459923Z",
     "shell.execute_reply": "2025-07-25T20:27:03.458976Z"
    },
    "papermill": {
     "duration": 0.200945,
     "end_time": "2025-07-25T20:27:03.462137",
     "exception": false,
     "start_time": "2025-07-25T20:27:03.261192",
     "status": "completed"
    },
    "tags": []
   },
   "outputs": [
    {
     "name": "stdout",
     "output_type": "stream",
     "text": [
      "1.0    3444\n",
      "3.0    2880\n",
      "4.0    2676\n",
      "6.0    2251\n",
      "5.0    1937\n",
      "9.0     834\n",
      "2.0     762\n",
      "8.0     750\n",
      "0.0     606\n",
      "7.0     102\n",
      "Name: eye_disease_type, dtype: int64\n"
     ]
    },
    {
     "data": {
      "text/plain": [
       "[<__main__.Eye_Class at 0x7ac441c6d590>,\n",
       " <__main__.Eye_Class at 0x7ac441c75590>,\n",
       " <__main__.Eye_Class at 0x7ac441c75910>,\n",
       " <__main__.Eye_Class at 0x7ac441c75f90>,\n",
       " <__main__.Eye_Class at 0x7ac4419413d0>,\n",
       " <__main__.Eye_Class at 0x7ac441941810>,\n",
       " <__main__.Eye_Class at 0x7ac441941c50>,\n",
       " <__main__.Eye_Class at 0x7ac441941e10>,\n",
       " <__main__.Eye_Class at 0x7ac441953490>,\n",
       " <__main__.Eye_Class at 0x7ac4419418d0>]"
      ]
     },
     "execution_count": 12,
     "metadata": {},
     "output_type": "execute_result"
    }
   ],
   "source": [
    "from sklearn.model_selection import KFold\n",
    "from typing import Dict, List, Union\n",
    "import pandas as pd\n",
    "import torch\n",
    "import torch.nn.init as init\n",
    "from torch.nn import (Conv2d, CrossEntropyLoss, Linear, MaxPool2d, ReLU,Sequential, MSELoss, L1Loss)\n",
    "from torch.optim import Adam\n",
    "from torch.optim.optimizer import Optimizer\n",
    "from torch.utils.data import DataLoader\n",
    "import itertools\n",
    "\n",
    "def prepare_data(eye_disease_df) -> None:\n",
    "        eye_disease_dataframe = pd.read_pickle(eye_disease_df)\n",
    "        print(eye_disease_dataframe['eye_disease_type'].value_counts())\n",
    "        k_fold = KFold(n_splits=10, shuffle=True)\n",
    "        training_folds = []\n",
    "        validation_folds = []\n",
    "        for training_index, validation_index in k_fold.split(eye_disease_dataframe, eye_disease_dataframe['eye_disease_type']):\n",
    "            training_folds.append(Eye_Class(eye_disease_dataframe.iloc[training_index]))\n",
    "            validation_folds.append(Eye_Class(eye_disease_dataframe.iloc[validation_index]))\n",
    "        return [\n",
    "            training_folds, validation_folds,CrossEntropyLoss()\n",
    "            ]\n",
    "\n",
    "def training_dataloader(train_df) -> DataLoader:\n",
    "    return DataLoader(train_df, batch_size=32, shuffle=True, num_workers=0)\n",
    "def validation_dataloader(validate_df) -> DataLoader:\n",
    "    return DataLoader(validate_df, batch_size=32, num_workers=0)   \n",
    "\n",
    "training_dfs, validation_dfs, cross_entropy_loss = prepare_data('/kaggle/working/dataset.pickle')\n",
    "training_dfs"
   ]
  },
  {
   "cell_type": "code",
   "execution_count": 13,
   "id": "1a63a781",
   "metadata": {
    "execution": {
     "iopub.execute_input": "2025-07-25T20:27:03.499116Z",
     "iopub.status.busy": "2025-07-25T20:27:03.498595Z",
     "iopub.status.idle": "2025-07-25T20:27:03.506947Z",
     "shell.execute_reply": "2025-07-25T20:27:03.506203Z"
    },
    "papermill": {
     "duration": 0.028987,
     "end_time": "2025-07-25T20:27:03.508597",
     "exception": false,
     "start_time": "2025-07-25T20:27:03.479610",
     "status": "completed"
    },
    "tags": []
   },
   "outputs": [],
   "source": [
    "import warnings\n",
    "warnings.filterwarnings('ignore')\n",
    "\n",
    "accuracyvalues = []\n",
    "training_loss = []\n",
    "\n",
    "def train_model(train_fold, fold):\n",
    "    optimizer = Adam(eye_disease_cnn.parameters(), lr=learning_rate)\n",
    "    \n",
    "    for epoch in range(epochs):\n",
    "        total, correct = 0, 0\n",
    "        loss_train = 0.0\n",
    "        \n",
    "        for j, data in enumerate(training_dataloader(train_fold), 0):\n",
    "            inputs = data['image']\n",
    "            labels = data['eye_disease_type'].flatten()\n",
    "\n",
    "            outputs = eye_disease_cnn(inputs)\n",
    "            loss = cross_entropy_loss(outputs, labels)\n",
    "            \n",
    "            optimizer.zero_grad()\n",
    "            loss.backward()\n",
    "            optimizer.step()\n",
    "\n",
    "            # accumulate training accuracy & loss\n",
    "            total += labels.size(0)\n",
    "            _, predicted_values = torch.max(outputs.data, 1)\n",
    "            correct += (predicted_values == labels).sum().item()\n",
    "            loss_train += loss.item()\n",
    "\n",
    "        accuracy = (correct / total) * 100\n",
    "        print(f\"Fold {fold + 1} | Epoch {epoch + 1} => Loss: {loss_train:.4f}, Accuracy: {accuracy:.2f}%\")\n",
    "        \n",
    "        accuracyvalues.append(accuracy)\n",
    "        training_loss.append(loss_train)\n"
   ]
  },
  {
   "cell_type": "code",
   "execution_count": 14,
   "id": "f34985b4",
   "metadata": {
    "execution": {
     "iopub.execute_input": "2025-07-25T20:27:03.541927Z",
     "iopub.status.busy": "2025-07-25T20:27:03.541621Z",
     "iopub.status.idle": "2025-07-25T20:27:03.548462Z",
     "shell.execute_reply": "2025-07-25T20:27:03.547556Z"
    },
    "papermill": {
     "duration": 0.025716,
     "end_time": "2025-07-25T20:27:03.550536",
     "exception": false,
     "start_time": "2025-07-25T20:27:03.524820",
     "status": "completed"
    },
    "tags": []
   },
   "outputs": [],
   "source": [
    "from numpy import vstack\n",
    "from sklearn.metrics import accuracy_score, precision_recall_fscore_support, confusion_matrix\n",
    "\n",
    "def evaluate_model(validate_fold):\n",
    "    prediction_values, actual_values = torch.tensor([]), torch.tensor([])\n",
    "    for i, data in enumerate(validation_dataloader(validate_fold)):\n",
    "        inputs, targets = data['image'], data['eye_disease_type']\n",
    "        targets = targets.flatten()\n",
    "        output = eye_disease_cnn(inputs)\n",
    "        output = torch.argmax(output,axis=1)\n",
    "        prediction_values = torch.cat((prediction_values, output.flatten()), dim=0)\n",
    "        actual_values = torch.cat((actual_values, targets), dim=0)\n",
    "\n",
    "    return (confusion_matrix(actual_values.numpy(), prediction_values.numpy()),accuracy_score(actual_values, prediction_values),*precision_recall_fscore_support(actual_values.numpy(), prediction_values.numpy(),average='macro'))"
   ]
  },
  {
   "cell_type": "code",
   "execution_count": 15,
   "id": "5103f92e",
   "metadata": {
    "execution": {
     "iopub.execute_input": "2025-07-25T20:27:03.582784Z",
     "iopub.status.busy": "2025-07-25T20:27:03.582515Z",
     "iopub.status.idle": "2025-07-26T03:47:20.222822Z",
     "shell.execute_reply": "2025-07-26T03:47:20.221812Z"
    },
    "papermill": {
     "duration": 26416.67515,
     "end_time": "2025-07-26T03:47:20.241425",
     "exception": false,
     "start_time": "2025-07-25T20:27:03.566275",
     "status": "completed"
    },
    "tags": []
   },
   "outputs": [
    {
     "name": "stdout",
     "output_type": "stream",
     "text": [
      "Running Fold : 1\n",
      "<__main__.Eye_Class object at 0x7ac441c6d590> 0\n",
      "Fold 1 | Epoch 1 => Loss: 751.8908, Accuracy: 40.41%\n",
      "Fold 1 | Epoch 2 => Loss: 603.8154, Accuracy: 51.93%\n",
      "Fold 1 | Epoch 3 => Loss: 511.4366, Accuracy: 59.29%\n",
      "Running Fold : 2\n",
      "<__main__.Eye_Class object at 0x7ac441c75590> 1\n",
      "Fold 2 | Epoch 1 => Loss: 746.8150, Accuracy: 41.44%\n",
      "Fold 2 | Epoch 2 => Loss: 576.5808, Accuracy: 54.38%\n",
      "Fold 2 | Epoch 3 => Loss: 493.2534, Accuracy: 60.46%\n",
      "Running Fold : 3\n",
      "<__main__.Eye_Class object at 0x7ac441c75910> 2\n",
      "Fold 3 | Epoch 1 => Loss: 733.6443, Accuracy: 41.84%\n",
      "Fold 3 | Epoch 2 => Loss: 573.0957, Accuracy: 54.92%\n",
      "Fold 3 | Epoch 3 => Loss: 489.3540, Accuracy: 61.03%\n",
      "Running Fold : 4\n",
      "<__main__.Eye_Class object at 0x7ac441c75f90> 3\n",
      "Fold 4 | Epoch 1 => Loss: 737.7915, Accuracy: 42.12%\n",
      "Fold 4 | Epoch 2 => Loss: 567.0081, Accuracy: 55.06%\n",
      "Fold 4 | Epoch 3 => Loss: 480.3723, Accuracy: 61.68%\n",
      "Running Fold : 5\n",
      "<__main__.Eye_Class object at 0x7ac4419413d0> 4\n",
      "Fold 5 | Epoch 1 => Loss: 733.1687, Accuracy: 42.69%\n",
      "Fold 5 | Epoch 2 => Loss: 583.0574, Accuracy: 54.19%\n",
      "Fold 5 | Epoch 3 => Loss: 489.6308, Accuracy: 60.82%\n",
      "Running Fold : 6\n",
      "<__main__.Eye_Class object at 0x7ac441941810> 5\n",
      "Fold 6 | Epoch 1 => Loss: 758.1517, Accuracy: 40.79%\n",
      "Fold 6 | Epoch 2 => Loss: 595.1461, Accuracy: 53.22%\n",
      "Fold 6 | Epoch 3 => Loss: 501.6351, Accuracy: 59.99%\n",
      "Running Fold : 7\n",
      "<__main__.Eye_Class object at 0x7ac441941c50> 6\n",
      "Fold 7 | Epoch 1 => Loss: 763.9960, Accuracy: 39.55%\n",
      "Fold 7 | Epoch 2 => Loss: 602.8146, Accuracy: 52.52%\n",
      "Fold 7 | Epoch 3 => Loss: 508.5494, Accuracy: 58.95%\n",
      "Running Fold : 8\n",
      "<__main__.Eye_Class object at 0x7ac441941e10> 7\n",
      "Fold 8 | Epoch 1 => Loss: 743.6556, Accuracy: 41.01%\n",
      "Fold 8 | Epoch 2 => Loss: 579.7799, Accuracy: 55.16%\n",
      "Fold 8 | Epoch 3 => Loss: 495.4569, Accuracy: 60.38%\n",
      "Running Fold : 9\n",
      "<__main__.Eye_Class object at 0x7ac441953490> 8\n",
      "Fold 9 | Epoch 1 => Loss: 751.1756, Accuracy: 40.89%\n",
      "Fold 9 | Epoch 2 => Loss: 597.5781, Accuracy: 53.30%\n",
      "Fold 9 | Epoch 3 => Loss: 514.0609, Accuracy: 58.97%\n",
      "Running Fold : 10\n",
      "<__main__.Eye_Class object at 0x7ac4419418d0> 9\n",
      "Fold 10 | Epoch 1 => Loss: 772.7913, Accuracy: 38.47%\n",
      "Fold 10 | Epoch 2 => Loss: 605.1170, Accuracy: 52.65%\n",
      "Fold 10 | Epoch 3 => Loss: 513.4822, Accuracy: 59.30%\n",
      "\n",
      "Classification Report\n",
      "accuracy     0.405677\n",
      "precision    0.464943\n",
      "recall       0.415719\n",
      "f1-score     0.420708\n",
      "dtype: float64\n",
      "\n"
     ]
    }
   ],
   "source": [
    "import matplotlib.pyplot as plt\n",
    "import seaborn as sn\n",
    "import numpy as np\n",
    "import pandas as pd\n",
    "\n",
    "fold_outputs = []\n",
    "fold_con_matrix = np.zeros((10, 10))  # updated to 10x10 for 10 diseases\n",
    "\n",
    "classes = [\n",
    "    'Central Serous Chorioretinopathy',\n",
    "    'Diabetic Retinopathy',\n",
    "    'Disc Edema',\n",
    "    'Glaucoma',\n",
    "    'Healthy',\n",
    "    'Macular Scar',\n",
    "    'Myopia',\n",
    "    'Pterygium',\n",
    "    'Retinal Detachment',\n",
    "    'Retinitis Pigmentosa'\n",
    "]\n",
    "\n",
    "for fold in range(len(training_dfs)):\n",
    "    print(\"Running Fold : \" + str(fold + 1))\n",
    "    print(training_dfs[fold], fold)\n",
    "    train_model(training_dfs[fold], fold)\n",
    "    fold_result = evaluate_model(validation_dfs[fold])\n",
    "    # fold_result = (confusion_matrix, accuracy, precision, recall, f1-score)\n",
    "    fold_outputs.append(fold_result[1:-1])\n",
    "    fold_con_matrix = np.add(fold_con_matrix, fold_result[0])\n",
    "    if fold != len(training_dfs) - 1:\n",
    "        eye_disease_cnn = EyeDiseaseClassification()\n",
    "\n",
    "report = pd.DataFrame(fold_outputs, columns=['accuracy', 'precision', 'recall', 'f1-score'])\n",
    "print()\n",
    "print(\"Classification Report\")\n",
    "print(report.mean())\n",
    "print()\n"
   ]
  },
  {
   "cell_type": "code",
   "execution_count": 16,
   "id": "728e817c",
   "metadata": {
    "execution": {
     "iopub.execute_input": "2025-07-26T03:47:20.279824Z",
     "iopub.status.busy": "2025-07-26T03:47:20.279010Z",
     "iopub.status.idle": "2025-07-26T03:47:20.313203Z",
     "shell.execute_reply": "2025-07-26T03:47:20.312203Z"
    },
    "papermill": {
     "duration": 0.056092,
     "end_time": "2025-07-26T03:47:20.315331",
     "exception": false,
     "start_time": "2025-07-26T03:47:20.259239",
     "status": "completed"
    },
    "tags": []
   },
   "outputs": [],
   "source": [
    "torch.save(eye_disease_cnn,'eye_disease_classification.pkl')"
   ]
  },
  {
   "cell_type": "code",
   "execution_count": 17,
   "id": "cecdc710",
   "metadata": {
    "execution": {
     "iopub.execute_input": "2025-07-26T03:47:20.352633Z",
     "iopub.status.busy": "2025-07-26T03:47:20.351838Z",
     "iopub.status.idle": "2025-07-26T03:47:20.357071Z",
     "shell.execute_reply": "2025-07-26T03:47:20.356107Z"
    },
    "papermill": {
     "duration": 0.025479,
     "end_time": "2025-07-26T03:47:20.358875",
     "exception": false,
     "start_time": "2025-07-26T03:47:20.333396",
     "status": "completed"
    },
    "tags": []
   },
   "outputs": [
    {
     "name": "stdout",
     "output_type": "stream",
     "text": [
      "Yes\n"
     ]
    }
   ],
   "source": [
    "import os\n",
    "import torch\n",
    "if os.path.exists('eye_disease_classification.pkl'): \n",
    "    print(\"Yes\")\n",
    "else:\n",
    "    print(\"No model saved\")"
   ]
  },
  {
   "cell_type": "markdown",
   "id": "9ade20a4",
   "metadata": {
    "papermill": {
     "duration": 0.017448,
     "end_time": "2025-07-26T03:47:20.394044",
     "exception": false,
     "start_time": "2025-07-26T03:47:20.376596",
     "status": "completed"
    },
    "tags": []
   },
   "source": [
    "To save the Model -> Which helps in skipping the Training Part"
   ]
  },
  {
   "cell_type": "code",
   "execution_count": 18,
   "id": "fe536638",
   "metadata": {
    "execution": {
     "iopub.execute_input": "2025-07-26T03:47:20.431360Z",
     "iopub.status.busy": "2025-07-26T03:47:20.430484Z",
     "iopub.status.idle": "2025-07-26T03:47:20.444937Z",
     "shell.execute_reply": "2025-07-26T03:47:20.443974Z"
    },
    "papermill": {
     "duration": 0.035335,
     "end_time": "2025-07-26T03:47:20.446924",
     "exception": false,
     "start_time": "2025-07-26T03:47:20.411589",
     "status": "completed"
    },
    "tags": []
   },
   "outputs": [],
   "source": [
    "import os\n",
    "import torch\n",
    "if os.path.exists('eye_disease_classification.pkl'): \n",
    "    modelTrained = torch.load('eye_disease_classification.pkl')\n",
    "else:\n",
    "    print(\"No model saved\")"
   ]
  },
  {
   "cell_type": "code",
   "execution_count": 19,
   "id": "4df692a5",
   "metadata": {
    "execution": {
     "iopub.execute_input": "2025-07-26T03:47:20.485410Z",
     "iopub.status.busy": "2025-07-26T03:47:20.484568Z",
     "iopub.status.idle": "2025-07-26T03:47:20.700248Z",
     "shell.execute_reply": "2025-07-26T03:47:20.699503Z"
    },
    "papermill": {
     "duration": 0.236631,
     "end_time": "2025-07-26T03:47:20.702168",
     "exception": false,
     "start_time": "2025-07-26T03:47:20.465537",
     "status": "completed"
    },
    "tags": []
   },
   "outputs": [
    {
     "data": {
      "image/png": "[encoded data removed]",
      "text/plain": [
       "<Figure size 432x288 with 1 Axes>"
      ]
     },
     "metadata": {
      "needs_background": "light"
     },
     "output_type": "display_data"
    }
   ],
   "source": [
    "epochvalues = range(1,11)\n",
    "acc_val = accuracyvalues[:10]\n",
    "train_loss = training_loss[:10]\n",
    "plt.plot(epochvalues,acc_val,'g',label='Accuracy Values')\n",
    "plt.plot(epochvalues,train_loss,'b',label='Training loss')\n",
    "plt.title('Accuracy Vs Training Loss')\n",
    "plt.xlabel('Epochs')\n",
    "plt.ylabel('Accuracy in %')\n",
    "plt.legend()\n",
    "plt.show()"
   ]
  },
  {
   "cell_type": "code",
   "execution_count": 20,
   "id": "28a811fa",
   "metadata": {
    "execution": {
     "iopub.execute_input": "2025-07-26T03:47:20.741279Z",
     "iopub.status.busy": "2025-07-26T03:47:20.740442Z",
     "iopub.status.idle": "2025-07-26T03:47:21.645515Z",
     "shell.execute_reply": "2025-07-26T03:47:21.644533Z"
    },
    "papermill": {
     "duration": 0.927684,
     "end_time": "2025-07-26T03:47:21.648475",
     "exception": false,
     "start_time": "2025-07-26T03:47:20.720791",
     "status": "completed"
    },
    "tags": []
   },
   "outputs": [
    {
     "data": {
      "image/png": "[encoded data removed]",
      "text/plain": [
       "<Figure size 504x288 with 2 Axes>"
      ]
     },
     "metadata": {
      "needs_background": "light"
     },
     "output_type": "display_data"
    }
   ],
   "source": [
    "#Plotting Confusion Matrix\n",
    "df_cm = pd.DataFrame(fold_con_matrix, index = [i for i in classes],\n",
    "                     columns = [i for i in classes])\n",
    "plt.figure(figsize = (7,4))\n",
    "sn.heatmap(df_cm, annot=True,fmt='.2f')\n",
    "plt.savefig('output.png')"
   ]
  },
  {
   "cell_type": "code",
   "execution_count": 21,
   "id": "80115f23",
   "metadata": {
    "execution": {
     "iopub.execute_input": "2025-07-26T03:47:21.691850Z",
     "iopub.status.busy": "2025-07-26T03:47:21.691143Z",
     "iopub.status.idle": "2025-07-26T03:47:21.695316Z",
     "shell.execute_reply": "2025-07-26T03:47:21.694387Z"
    },
    "papermill": {
     "duration": 0.027397,
     "end_time": "2025-07-26T03:47:21.697113",
     "exception": false,
     "start_time": "2025-07-26T03:47:21.669716",
     "status": "completed"
    },
    "tags": []
   },
   "outputs": [],
   "source": [
    "# import random\n",
    "# test_dataset_path = Path('/kaggle/input/eye-diseases-classification/dataset')\n",
    "# test_dataset_list_path = os.listdir(test_dataset_path)\n",
    "# test_randomdisease_path = random.choice(test_dataset_list_path)\n",
    "# test_random = test_dataset_path/test_randomdisease_path\n",
    "# test_random"
   ]
  },
  {
   "cell_type": "code",
   "execution_count": 22,
   "id": "1f347ee6",
   "metadata": {
    "execution": {
     "iopub.execute_input": "2025-07-26T03:47:21.738712Z",
     "iopub.status.busy": "2025-07-26T03:47:21.737881Z",
     "iopub.status.idle": "2025-07-26T03:47:21.742917Z",
     "shell.execute_reply": "2025-07-26T03:47:21.742079Z"
    },
    "papermill": {
     "duration": 0.027652,
     "end_time": "2025-07-26T03:47:21.744700",
     "exception": false,
     "start_time": "2025-07-26T03:47:21.717048",
     "status": "completed"
    },
    "tags": []
   },
   "outputs": [],
   "source": [
    "# from tqdm import tqdm\n",
    "# import matplotlib.pyplot as plt\n",
    "# import random\n",
    "\n",
    "# class_mapping_values = {0: \"cataract\", 1: \"diabetic_retinopathy\", 2: \"glaucoma\", 3: \"normal\"}\n",
    "\n",
    "# def prepare_eyedisease_prediction_df():\n",
    "#     test_dataset_path = Path('/kaggle/input/eye-diseases-classification/dataset')\n",
    "#     test_dataset_list_path = os.listdir(test_dataset_path)\n",
    "#     test_randomdisease_path = random.choice(test_dataset_list_path)\n",
    "#     test_random = test_dataset_path/test_randomdisease_path\n",
    "#     test_dataframe = pd.DataFrame()\n",
    "\n",
    "#     #Appending values to the images - Key value pair\n",
    "#     for imagePath in tqdm(list(test_random.iterdir()), desc='cataract'):\n",
    "#         test_dataframe = test_dataframe.append({\n",
    "#             'image': str(imagePath),\n",
    "#             'eye_disease_type': 0\n",
    "#         }, ignore_index=True)\n",
    "\n",
    "#     for imagePath in tqdm(list(test_random.iterdir()), desc='diabetic_retinopathy'):\n",
    "#         test_dataframe = test_dataframe.append({\n",
    "#             'image': str(imagePath),\n",
    "#             'eye_disease_type': 1\n",
    "#         }, ignore_index=True)\n",
    "\n",
    "#     for imagePath in tqdm(list(test_random.iterdir()), desc='glaucoma'):\n",
    "#         test_dataframe = test_dataframe.append({\n",
    "#             'image': str(imagePath),\n",
    "#             'eye_disease_type': 2\n",
    "#         }, ignore_index=True)\n",
    "        \n",
    "#     for imagePath in tqdm(list(test_random.iterdir()), desc='surgical'):\n",
    "#         test_dataframe = test_dataframe.append({\n",
    "#             'image': str(imagePath),\n",
    "#             'eye_disease_type': 3\n",
    "#         }, ignore_index=True)\n",
    "        \n",
    "    \n",
    "#     #Counts the number of images in each category\n",
    "#     print(\"Length of the Test_Dataframe\",len(test_dataframe.value_counts()))\n",
    "#     return Eye_Class(test_dataframe)"
   ]
  },
  {
   "cell_type": "code",
   "execution_count": 23,
   "id": "3603e16f",
   "metadata": {
    "execution": {
     "iopub.execute_input": "2025-07-26T03:47:21.786631Z",
     "iopub.status.busy": "2025-07-26T03:47:21.785828Z",
     "iopub.status.idle": "2025-07-26T03:47:21.790266Z",
     "shell.execute_reply": "2025-07-26T03:47:21.789411Z"
    },
    "papermill": {
     "duration": 0.027158,
     "end_time": "2025-07-26T03:47:21.791999",
     "exception": false,
     "start_time": "2025-07-26T03:47:21.764841",
     "status": "completed"
    },
    "tags": []
   },
   "outputs": [],
   "source": [
    "# def test_eyedisease_predict():\n",
    "#     test_dataframe = prepare_eyedisease_prediction_df()\n",
    "#     random_sampler = torch.utils.data.RandomSampler(test_dataframe, num_samples=32, replacement=True)\n",
    "#     test_data = iter(DataLoader(test_dataframe, batch_size=32, num_workers=0, sampler=random_sampler)).next()\n",
    "#     inputs,targets = test_data['image'], test_data['eye_disease_type']\n",
    "#     test_output = modelTrained(inputs)\n",
    "#     test_output = torch.argmax(test_output,axis=1)\n",
    "#     rand_val = random.choice(list(range(0,32)))\n",
    "#     print(test_data['path'][rand_val])\n",
    "#     img = Image.open(test_data['path'][rand_val])\n",
    "#     plt.imshow(np.asarray(img))\n",
    "#     print(\"Predicted:\",class_mapping_values[test_output[rand_val].tolist()])\n",
    "\n",
    "# test_eyedisease_predict()"
   ]
  },
  {
   "cell_type": "code",
   "execution_count": 24,
   "id": "a55753ef",
   "metadata": {
    "execution": {
     "iopub.execute_input": "2025-07-26T03:47:21.833443Z",
     "iopub.status.busy": "2025-07-26T03:47:21.832763Z",
     "iopub.status.idle": "2025-07-26T03:47:21.838748Z",
     "shell.execute_reply": "2025-07-26T03:47:21.837913Z"
    },
    "papermill": {
     "duration": 0.028601,
     "end_time": "2025-07-26T03:47:21.840475",
     "exception": false,
     "start_time": "2025-07-26T03:47:21.811874",
     "status": "completed"
    },
    "tags": []
   },
   "outputs": [
    {
     "data": {
      "text/plain": [
       "'def create_mask_for_image(image):\\n    image_hsv = cv2.cvtColor(image, cv2.COLOR_BGR2HSV)\\n\\n    lower_hsv = np.array([0,0,250])\\n    upper_hsv = np.array([250,255,255])\\n    \\n    mask = cv2.inRange(image_hsv, lower_hsv, upper_hsv)\\n    kernel = cv2.getStructuringElement(cv2.MORPH_ELLIPSE, (11,11))\\n    mask = cv2.morphologyEx(mask, cv2.MORPH_CLOSE, kernel)\\n    return mask'"
      ]
     },
     "execution_count": 24,
     "metadata": {},
     "output_type": "execute_result"
    }
   ],
   "source": [
    "'''def create_mask_for_image(image):\n",
    "    image_hsv = cv2.cvtColor(image, cv2.COLOR_BGR2HSV)\n",
    "\n",
    "    lower_hsv = np.array([0,0,250])\n",
    "    upper_hsv = np.array([250,255,255])\n",
    "    \n",
    "    mask = cv2.inRange(image_hsv, lower_hsv, upper_hsv)\n",
    "    kernel = cv2.getStructuringElement(cv2.MORPH_ELLIPSE, (11,11))\n",
    "    mask = cv2.morphologyEx(mask, cv2.MORPH_CLOSE, kernel)\n",
    "    return mask'''"
   ]
  },
  {
   "cell_type": "code",
   "execution_count": 25,
   "id": "ba800f4c",
   "metadata": {
    "execution": {
     "iopub.execute_input": "2025-07-26T03:47:21.881753Z",
     "iopub.status.busy": "2025-07-26T03:47:21.881084Z",
     "iopub.status.idle": "2025-07-26T03:47:21.887703Z",
     "shell.execute_reply": "2025-07-26T03:47:21.886867Z"
    },
    "papermill": {
     "duration": 0.029298,
     "end_time": "2025-07-26T03:47:21.889436",
     "exception": false,
     "start_time": "2025-07-26T03:47:21.860138",
     "status": "completed"
    },
    "tags": []
   },
   "outputs": [
    {
     "data": {
      "text/plain": [
       "\"from keras.preprocessing import image\\ndata_kaggle = '/kaggle/input/eye-diseases-classification/dataset/'\\ndef read_img(filepath, size):\\n    img = image.load_img(os.path.join(data_kaggle, filepath), target_size=size)\\n    #convert image to array\\n    img = image.img_to_array(img)\\n    return img\\nimg = read_img(eye_disease_df['image'][40],(255,255))\\nimg_preprocess = create_mask_for_image(img)\\nimg_preprocess\\nfig, ax = plt.subplots(1, 2, figsize=(5, 5));\\nplt.suptitle('RESULT', x=0.5, y=0.8)\\nax[0].set_title('ORIGINAL', fontsize=12)\\nax[1].set_title('MASK', fontsize=12)\\nax[0].imshow(img/255);\\nax[1].imshow(img_preprocess);\\ndef sharpen_image(image):\\n    image_blurred = cv2.GaussianBlur(image, (0, 0), 3)\\n    image_sharp = cv2.addWeighted(image, 1.5, image_blurred, -0.5, 0)\\n    return image_sharp\\nimg = read_img(eye_disease_df['image'][40],(255,255))\\n#sharpen the image\\nimage_sharpen = sharpen_image(img)\\nfig, ax = plt.subplots(1, 2, figsize=(5, 5));\\nplt.suptitle('RESULT', x=0.5, y=0.8)\\nplt.tight_layout(1)\\nax[0].set_title('ORIGINAL', fontsize=12)\\nax[1].set_title('SHARPEN', fontsize=12)\\nax[0].imshow(img/255);\\nax[1].imshow(image_sharpen);\\nimport torchvision.transforms as transforms\\n\\ntransform = transforms.Compose([\\n    transforms.RandomHorizontalFlip(),\\n    transforms.RandomRotation(30),\\n    transforms.RandomResizedCrop(224),\\n    transforms.ToTensor(),\\n    transforms.Normalize(mean=[0.485, 0.456, 0.406], std=[0.229, 0.224, 0.225])\\n])\\n\\nimg = Image.open('/kaggle/input/eye-diseases-classification/dataset/cataract/0_left.jpg')\\nimg_aug = transform(img)\\nimg_aug\""
      ]
     },
     "execution_count": 25,
     "metadata": {},
     "output_type": "execute_result"
    }
   ],
   "source": [
    "'''from keras.preprocessing import image\n",
    "data_kaggle = '/kaggle/input/eye-diseases-classification/dataset/'\n",
    "def read_img(filepath, size):\n",
    "    img = image.load_img(os.path.join(data_kaggle, filepath), target_size=size)\n",
    "    #convert image to array\n",
    "    img = image.img_to_array(img)\n",
    "    return img\n",
    "img = read_img(eye_disease_df['image'][40],(255,255))\n",
    "img_preprocess = create_mask_for_image(img)\n",
    "img_preprocess\n",
    "fig, ax = plt.subplots(1, 2, figsize=(5, 5));\n",
    "plt.suptitle('RESULT', x=0.5, y=0.8)\n",
    "ax[0].set_title('ORIGINAL', fontsize=12)\n",
    "ax[1].set_title('MASK', fontsize=12)\n",
    "ax[0].imshow(img/255);\n",
    "ax[1].imshow(img_preprocess);\n",
    "def sharpen_image(image):\n",
    "    image_blurred = cv2.GaussianBlur(image, (0, 0), 3)\n",
    "    image_sharp = cv2.addWeighted(image, 1.5, image_blurred, -0.5, 0)\n",
    "    return image_sharp\n",
    "img = read_img(eye_disease_df['image'][40],(255,255))\n",
    "#sharpen the image\n",
    "image_sharpen = sharpen_image(img)\n",
    "fig, ax = plt.subplots(1, 2, figsize=(5, 5));\n",
    "plt.suptitle('RESULT', x=0.5, y=0.8)\n",
    "plt.tight_layout(1)\n",
    "ax[0].set_title('ORIGINAL', fontsize=12)\n",
    "ax[1].set_title('SHARPEN', fontsize=12)\n",
    "ax[0].imshow(img/255);\n",
    "ax[1].imshow(image_sharpen);\n",
    "import torchvision.transforms as transforms\n",
    "\n",
    "transform = transforms.Compose([\n",
    "    transforms.RandomHorizontalFlip(),\n",
    "    transforms.RandomRotation(30),\n",
    "    transforms.RandomResizedCrop(224),\n",
    "    transforms.ToTensor(),\n",
    "    transforms.Normalize(mean=[0.485, 0.456, 0.406], std=[0.229, 0.224, 0.225])\n",
    "])\n",
    "\n",
    "img = Image.open('/kaggle/input/eye-diseases-classification/dataset/cataract/0_left.jpg')\n",
    "img_aug = transform(img)\n",
    "img_aug'''"
   ]
  }
 ],
 "metadata": {
  "kaggle": {
   "accelerator": "gpu",
   "dataSources": [
    {
     "datasetId": 2440665,
     "sourceId": 4130910,
     "sourceType": "datasetVersion"
    },
    {
     "datasetId": 7943475,
     "sourceId": 12577683,
     "sourceType": "datasetVersion"
    }
   ],
   "dockerImageVersionId": 30370,
   "isGpuEnabled": true,
   "isInternetEnabled": true,
   "language": "python",
   "sourceType": "notebook"
  },
  "kernelspec": {
   "display_name": "Python 3",
   "language": "python",
   "name": "python3"
  },
  "language_info": {
   "codemirror_mode": {
    "name": "ipython",
    "version": 3
   },
   "file_extension": ".py",
   "mimetype": "text/x-python",
   "name": "python",
   "nbconvert_exporter": "python",
   "pygments_lexer": "ipython3",
   "version": "3.7.12"
  },
  "papermill": {
   "default_parameters": {},
   "duration": 26466.887526,
   "end_time": "2025-07-26T03:47:24.972322",
   "environment_variables": {},
   "exception": null,
   "input_path": "__notebook__.ipynb",
   "output_path": "__notebook__.ipynb",
   "parameters": {},
   "start_time": "2025-07-25T20:26:18.084796",
   "version": "2.3.4"
  }
 },
 "nbformat": 4,
 "nbformat_minor": 5
}
